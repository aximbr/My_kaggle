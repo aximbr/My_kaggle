{
 "cells": [
  {
   "cell_type": "markdown",
   "metadata": {},
   "source": [
    "## This is my Juniper Notebook template to be used on Kaggle"
   ]
  },
  {
   "cell_type": "code",
   "execution_count": null,
   "metadata": {
    "execution": {
     "iopub.execute_input": "2025-01-21T00:14:38.325085Z",
     "iopub.status.busy": "2025-01-21T00:14:38.324670Z",
     "iopub.status.idle": "2025-01-21T00:14:38.356266Z",
     "shell.execute_reply": "2025-01-21T00:14:38.354830Z",
     "shell.execute_reply.started": "2025-01-21T00:14:38.325054Z"
    },
    "trusted": true
   },
   "outputs": [],
   "source": [
    "# Import python libs\n",
    "import pandas as pd\n",
    "import numpy as np\n",
    "\n",
    "# Uncomment to choose your type of regressor\n",
    "#from sklearn.tree import DecisionTreeRegressor\n",
    "#from sklearn.ensemble import RandomForestRegressor\n",
    "from sklearn.linear_model import LinearRegression\n",
    "\n",
    "# Uncomment to choose the metric\n",
    "from sklearn.metrics import mean_absolute_error\n",
    "from sklearn.metrics import mean_squared_error\n",
    "\n",
    "\n",
    "# Path of the file to read\n",
    "xxx_file_path = '../input/boston-housing-dataset/BostonHousing.csv'\n",
    "\n",
    "xxx_data = pd.read_csv(xxx_file_path)\n",
    "\n",
    "#Let list the columns for this dataframe\n",
    "#xxx_data.info()\n",
    "\n",
    "#list_columns = list(xxx_data.columns)\n",
    "\n",
    "#print(list_columns)\n",
    "\n",
    "# Sanity check for our data\n",
    "print(xxx_data.isna().sum(axis=0))\n",
    "\n",
    "# Drop rows with NaN\n",
    "# To Be Implemented\n",
    "\n",
    "# replace NaN on column 'rm' with the mean value\n",
    "xxx_data.fillna({'rm':int(xxx_data['rm'].mean())}, inplace=True)\n",
    "\n",
    "# Check the result\n",
    "print(xxx_data.isna().sum(axis=0))\n",
    "\n",
    "# Inform the name of column that will be the target\n",
    "y = xxx_data.medv\n",
    "\n",
    "feature_columns = ['crim', 'zn', 'indus', 'chas', 'nox', 'rm', 'age', 'dis', 'rad', 'tax', 'ptratio', 'b', 'lstat']\n",
    "X = xxx_data[feature_columns]\n",
    "\n",
    "# Specify Model\n",
    "#xxx_model = DecisionTreeRegressor()\n",
    "#model = 'Decision Tree Regressor'\n",
    "#xxx_model = RandomForestRegressor()\n",
    "#model = 'Random Forest Regressor'\n",
    "xxx_model = LinearRegression()\n",
    "model = 'Linear Regression'\n",
    "\n",
    "# Fit Model\n",
    "xxx_model.fit(X, y)\n",
    "\n",
    "# First Prediction\n",
    "full_preds = xxx_model.predict(X)\n",
    "\n",
    "print(f'First Analyses with model {model}, the absoluter error is {mean_absolute_error(full_preds, y)}')\n",
    "print(f'First Analyses with model {model}, the MSE is {mean_squared_error(full_preds, y)}')\n"
   ]
  },
  {
   "cell_type": "code",
   "execution_count": null,
   "metadata": {
    "trusted": true
   },
   "outputs": [],
   "source": []
  }
 ],
 "metadata": {
  "kaggle": {
   "accelerator": "none",
   "dataSources": [
    {
     "datasetId": 3606821,
     "sourceId": 6700194,
     "sourceType": "datasetVersion"
    }
   ],
   "dockerImageVersionId": 30839,
   "isGpuEnabled": false,
   "isInternetEnabled": true,
   "language": "python",
   "sourceType": "notebook"
  },
  "kernelspec": {
   "display_name": ".venv",
   "language": "python",
   "name": "python3"
  },
  "language_info": {
   "codemirror_mode": {
    "name": "ipython",
    "version": 3
   },
   "file_extension": ".py",
   "mimetype": "text/x-python",
   "name": "python",
   "nbconvert_exporter": "python",
   "pygments_lexer": "ipython3",
   "version": "3.11.5"
  }
 },
 "nbformat": 4,
 "nbformat_minor": 4
}
